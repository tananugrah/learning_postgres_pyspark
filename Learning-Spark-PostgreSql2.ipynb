version https://git-lfs.github.com/spec/v1
oid sha256:b7f195c4eae03fe7b23a582cf4d4f05dfc13175635e4342efee9822ee03ebec5
size 51457
